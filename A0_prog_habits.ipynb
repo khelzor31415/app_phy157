{
  "nbformat": 4,
  "nbformat_minor": 0,
  "metadata": {
    "colab": {
      "name": "A0.prog_habits.ipynb",
      "provenance": [],
      "authorship_tag": "ABX9TyMQQJTlDErcyuJSZE0bFWQQ",
      "include_colab_link": true
    },
    "kernelspec": {
      "name": "python3",
      "display_name": "Python 3"
    },
    "language_info": {
      "name": "python"
    }
  },
  "cells": [
    {
      "cell_type": "markdown",
      "metadata": {
        "id": "view-in-github",
        "colab_type": "text"
      },
      "source": [
        "<a href=\"https://colab.research.google.com/github/khelzor31415/app_phy157/blob/main/A0_prog_habits.ipynb\" target=\"_parent\"><img src=\"https://colab.research.google.com/assets/colab-badge.svg\" alt=\"Open In Colab\"/></a>"
      ]
    },
    {
      "cell_type": "markdown",
      "source": [
        ""
      ],
      "metadata": {
        "id": "VbFjnLY9wlmz"
      }
    },
    {
      "cell_type": "markdown",
      "source": [
        "# Coding Exercise\n",
        "\n",
        "Create a test for an area of a square calculator given a side length."
      ],
      "metadata": {
        "id": "DKakLD0zwlmA"
      }
    },
    {
      "cell_type": "code",
      "execution_count": 2,
      "metadata": {
        "id": "mN_bz4FnweI_"
      },
      "outputs": [],
      "source": [
        "def square_area(edge:float)->float:\n",
        "    return edge**2"
      ]
    },
    {
      "cell_type": "code",
      "source": [
        "def square_area_test_int():\n",
        "    tol = 1e-15\n",
        "    edge = 2\n",
        "    expected = 4\n",
        "    assert abs(square_area(edge)-expected)<tol, \"ERROR Area of Square of Edge 2 is 4\"\n",
        "def square_area_test_float():\n",
        "    tol = 1e-15\n",
        "    edge = 2.5\n",
        "    expected = 6.25\n",
        "    assert abs(square_area(edge)-expected)<tol, \"ERROR Area of Square of Edge 2.5 is 6.25\"\n",
        "def square_area_test_irrational():\n",
        "    tol = 1e-15\n",
        "    edge = 2**(0.5)\n",
        "    expected = 2\n",
        "    assert abs(square_area(edge)-expected)<tol, \"ERROR Area of Square of Edge Root 2 is 2\"\n",
        "def square_area_test_zero():\n",
        "    tol = 1e-15\n",
        "    edge = 0\n",
        "    expected = 0\n",
        "    assert abs(square_area(edge)-expected)<tol, \"ERROR Area of Square of Edge 0 is 0\""
      ],
      "metadata": {
        "id": "sKtbVQLrP5yg"
      },
      "execution_count": 17,
      "outputs": []
    },
    {
      "cell_type": "code",
      "source": [
        "square_area_test_int()\n",
        "square_area_test_float()\n",
        "square_area_test_irrational()\n",
        "square_area_test_zero()"
      ],
      "metadata": {
        "id": "9ptiyPqYQIx4"
      },
      "execution_count": 18,
      "outputs": []
    }
  ]
}